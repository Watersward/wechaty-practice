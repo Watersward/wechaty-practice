{
 "cells": [
  {
   "cell_type": "code",
   "execution_count": null,
   "metadata": {
    "collapsed": false
   },
   "outputs": [],
   "source": [
    "# 查看当前挂载的数据集目录, 该目录下的变更重启环境后会自动还原\n",
    "# View dataset directory. \n",
    "# This directory will be recovered automatically after resetting environment. \n",
    "!ls /home/aistudio/data"
   ]
  },
  {
   "cell_type": "code",
   "execution_count": 0,
   "metadata": {
    "collapsed": false
   },
   "outputs": [],
   "source": [
    "# 查看工作区文件, 该目录下的变更将会持久保存. 请及时清理不必要的文件, 避免加载过慢.\n",
    "# View personal work directory. \n",
    "# All changes under this directory will be kept even after reset. \n",
    "# Please clean unnecessary files in time to speed up environment loading. \n",
    "!ls /home/aistudio/work"
   ]
  },
  {
   "cell_type": "code",
   "execution_count": null,
   "metadata": {
    "collapsed": false
   },
   "outputs": [],
   "source": [
    "# 如果需要进行持久化安装, 需要使用持久化路径, 如下方代码示例:\n",
    "# If a persistence installation is required, \n",
    "# you need to use the persistence path as the following: \n",
    "!mkdir /home/aistudio/external-libraries\n",
    "!pip install beautifulsoup4 -t /home/aistudio/external-libraries"
   ]
  },
  {
   "cell_type": "code",
   "execution_count": null,
   "metadata": {
    "collapsed": false
   },
   "outputs": [],
   "source": [
    "# 同时添加如下代码, 这样每次环境(kernel)启动的时候只要运行下方代码即可: \n",
    "# Also add the following code, \n",
    "# so that every time the environment (kernel) starts, \n",
    "# just run the following code: \n",
    "import sys \n",
    "sys.path.append('/home/aistudio/external-libraries')"
   ]
  },
  {
   "cell_type": "markdown",
   "metadata": {
    "collapsed": false
   },
   "source": [
    "请点击[此处](https://ai.baidu.com/docs#/AIStudio_Project_Notebook/a38e5576)查看本环境基本用法.  <br>\n",
    "Please click [here ](https://ai.baidu.com/docs#/AIStudio_Project_Notebook/a38e5576) for more detailed instructions. "
   ]
  },
  {
   "cell_type": "markdown",
   "metadata": {
    "collapsed": false
   },
   "source": [
    "# **效果**"
   ]
  },
  {
   "cell_type": "markdown",
   "metadata": {
    "collapsed": false
   },
   "source": [
    "![](https://ai-studio-static-online.cdn.bcebos.com/4aa2fc320f21445bbae1fa2fe385a0fc4e114997b3874e61b52998d6e6247a94)\n"
   ]
  },
  {
   "cell_type": "markdown",
   "metadata": {
    "collapsed": false
   },
   "source": [
    "# **代码**"
   ]
  },
  {
   "cell_type": "code",
   "execution_count": null,
   "metadata": {
    "collapsed": false
   },
   "outputs": [],
   "source": [
    "# 这些是 run.py 中的代码\r\n",
    "# coding=utf-8\r\n",
    "\r\n",
    "######  欢迎使用脚本任务，首先让我们熟悉脚本任务的一些使用规则  ######\r\n",
    "# 脚本任务支持两种运行方式 \r\n",
    "\r\n",
    "# 1.shell 脚本. 在 run.sh 中编写项目运行时所需的命令，并在启动命令框中填写 bash run.sh <参数1> <参数2>使脚本任务正常运行.\r\n",
    "\r\n",
    "# 2.python 指令. 在 run.py 编写运行所需的代码，并在启动命令框中填写 python run.py <参数1> <参数2> 使脚本任务正常运行.\r\n",
    "\r\n",
    "#注：run.sh、run.py 可使用自己的文件替代。\r\n",
    "\r\n",
    "###数据集文件目录\r\n",
    "# datasets_prefix = '/root/paddlejob/workspace/train_data/datasets/'\r\n",
    "\r\n",
    "# 数据集文件具体路径请在编辑项目状态下通过左侧导航「数据集」中文件路径拷贝按钮获取\r\n",
    "# train_datasets =  '通过路径拷贝获取真实数据集文件路径 '\r\n",
    "\r\n",
    "# 输出文件目录. 任务完成后平台会自动把该目录所有文件压缩为tar.gz包，用户可以通过「下载输出」可以将输出信息下载到本地.\r\n",
    "# output_dir = \"/root/paddlejob/workspace/output\"\r\n",
    "\r\n",
    "# 日志记录. 任务会自动记录环境初始化日志、任务执行日志、错误日志、执行脚本中所有标准输出和标准出错流(例如print()),用户可以在「提交」任务后,通过「查看日志」追踪日志信息.\r\n",
    "import os\r\n",
    "import cv2\r\n",
    "import asyncio\r\n",
    "import numpy as np\r\n",
    "import paddlehub as hub\r\n",
    "import zipfile\r\n",
    "import paddle\r\n",
    "from typing import Optional, Union\r\n",
    "from wechaty import Wechaty, Contact\r\n",
    "from wechaty.user import Message, Room\r\n",
    "\r\n",
    "from wechaty import (\r\n",
    "    Contact,\r\n",
    "    FileBox,\r\n",
    "    Message,\r\n",
    "    Wechaty,\r\n",
    "    ScanStatus,\r\n",
    ")\r\n",
    "\r\n",
    "model = hub.Module(name='animegan_v2_shinkai_33', use_gpu=True)\r\n",
    "module = hub.Module(name=\"ernie_gen_acrostic_poetry\", line=4, word=7)\r\n",
    "dio_model = hub.Module(name='ernie_gen_couplet')\r\n",
    "\r\n",
    "def img_transform(img_path, img_name):\r\n",
    "    \"\"\"\r\n",
    "    将图片转换为新海诚《你的名字》、《天气之子》风格的图片\r\n",
    "    img_path: 图片的路径\r\n",
    "    img_name: 图片的文件名\r\n",
    "    \"\"\"\r\n",
    "    # 图片转换后存放的路径\r\n",
    "    img_new_path = './image-new/' + img_name\r\n",
    "\r\n",
    "    # 模型预测\r\n",
    "    result = model.style_transfer(images=[cv2.imread(img_path)])\r\n",
    "\r\n",
    "    # 将图片保存到指定路径\r\n",
    "    cv2.imwrite(img_new_path, result[0])\r\n",
    "\r\n",
    "    # 返回新图片的路径\r\n",
    "    return img_new_path\r\n",
    "\r\n",
    "\r\n",
    "async def on_message(msg: Message):\r\n",
    "    text = msg.text()\r\n",
    "    if msg.text() == 'Dang':\r\n",
    "        await msg.say('这是自动回复: dong dong dong')\r\n",
    "\r\n",
    "    if msg.text() == 'hi' or msg.text() == '你好':\r\n",
    "        await msg.say('这是自动回复: 机器人目前的功能是\\n- 收到\"ding\", 自动回复\"dong dong dong\"\\n- 收到\"图片\", 自动回复一张图片')\r\n",
    "\r\n",
    "    if msg.text() == '暗号':\r\n",
    "        await msg.say('西北玄天一片云，乌鸦落到凤凰群')\r\n",
    "        \r\n",
    "    if msg.text() == '魔镜，魔镜':\r\n",
    "        await msg.say('别问啦，问就是 张小猫是最美哒')\r\n",
    "    \r\n",
    "    \r\n",
    "    if msg.text() == '图片':\r\n",
    "        url = 'http://qrul2d5a1.hn-bkt.clouddn.com/image/street.jpg'\r\n",
    "        \r\n",
    "        # 构建一个FileBox\r\n",
    "        file_box_1 = FileBox.from_url(url=url, name='xx.jpg')\r\n",
    "\r\n",
    "        await msg.say(file_box_1)\r\n",
    "    if msg.text() == '进入图片转换模式':\r\n",
    "        await msg.say('请输入图片')\r\n",
    "        if msg.type() == Message.Type.MESSAGE_TYPE_IMAGE:\r\n",
    "            file_box_2 = await msg.to_file_box()\r\n",
    "            img_name = file_box_2.name\r\n",
    "            img_path = './image/' + img_name\r\n",
    "            await file_box_2.to_file(file_path=img_path)\r\n",
    "            img_new_path = img_transform(img_path, img_name)\r\n",
    "            file_box_3 = FileBox.from_file(img_new_path)\r\n",
    "            await msg.say(file_box_3)\r\n",
    "    if msg.text().startswith('华安'): \r\n",
    "        #await msg.say('请输入4个字作为藏头诗的头')\r\n",
    "        test_texts = [msg.text()[-4:]]\r\n",
    "        results = module.generate(texts=test_texts, use_gpu=True, beam_width=7)\r\n",
    "        #for result in results:\r\n",
    "        await msg.say(results[0][0])\r\n",
    "    if \"9527出来对对子了\" in text:\r\n",
    "        print('text:',text)\r\n",
    "        human=[text.replace(\"9527出来对对子了\",\"\")]\r\n",
    "        \r\n",
    "        robot = dio_model.generate(texts=human, beam_width=1)\r\n",
    "        robot = str(robot[0]).replace(\"[\", \"\").replace(\"]\", \"\").replace(\"'\", \"\")\r\n",
    "        await msg.say(robot)\r\n",
    "        \r\n",
    "async def on_scan(\r\n",
    "        qrcode: str,\r\n",
    "        status: ScanStatus,\r\n",
    "        _data,\r\n",
    "):\r\n",
    "    print('Status: ' + str(status))\r\n",
    "    print('View QR Code Online: https://wechaty.js.org/qrcode/' + qrcode)\r\n",
    "\r\n",
    "\r\n",
    "async def on_login(user: Contact):\r\n",
    "    print(user)\r\n",
    "\r\n",
    "\r\n",
    "async def main():\r\n",
    "    # 确保我们在环境变量中设置了WECHATY_PUPPET_SERVICE_TOKEN\r\n",
    "    if 'WECHATY_PUPPET_SERVICE_TOKEN' not in os.environ:\r\n",
    "        print('''\r\n",
    "            Error: WECHATY_PUPPET_SERVICE_TOKEN is not found in the environment variables\r\n",
    "            You need a TOKEN to run the Python Wechaty. Please goto our README for details\r\n",
    "            https://github.com/wechaty/python-wechaty-getting-started/#wechaty_puppet_service_token\r\n",
    "        ''')\r\n",
    "\r\n",
    "    bot = Wechaty()\r\n",
    "\r\n",
    "    bot.on('scan',      on_scan)\r\n",
    "    bot.on('login',     on_login)\r\n",
    "    bot.on('message',   on_message)\r\n",
    "\r\n",
    "    await bot.start()\r\n",
    "\r\n",
    "    print('[Python Wechaty] Ding Dong Bot started.')\r\n",
    "\r\n",
    "\r\n",
    "asyncio.run(main())\r\n"
   ]
  },
  {
   "cell_type": "code",
   "execution_count": null,
   "metadata": {
    "collapsed": false
   },
   "outputs": [],
   "source": [
    "# coding=utf-8\r\n",
    "\r\n",
    "######  欢迎使用脚本任务，首先让我们熟悉脚本任务的一些使用规则  ######\r\n",
    "# 脚本任务支持两种运行方式 \r\n",
    "\r\n",
    "# 1.shell 脚本. 在 run.sh 中编写项目运行时所需的命令，并在启动命令框中填写 bash run.sh <参数1> <参数2>使脚本任务正常运行.\r\n",
    "\r\n",
    "# 2.python 指令. 在 run.py 编写运行所需的代码，并在启动命令框中填写 python run.py <参数1> <参数2> 使脚本任务正常运行.\r\n",
    "\r\n",
    "#注：run.sh、run.py 可使用自己的文件替代。\r\n",
    "\r\n",
    "###数据集文件目录\r\n",
    "# datasets_prefix = '/root/paddlejob/workspace/train_data/datasets/'\r\n",
    "\r\n",
    "# 数据集文件具体路径请在编辑项目状态下通过左侧导航「数据集」中文件路径拷贝按钮获取\r\n",
    "# train_datasets =  '通过路径拷贝获取真实数据集文件路径 '\r\n",
    "\r\n",
    "# 输出文件目录. 任务完成后平台会自动把该目录所有文件压缩为tar.gz包，用户可以通过「下载输出」可以将输出信息下载到本地.\r\n",
    "# output_dir = \"/root/paddlejob/workspace/output\"\r\n",
    "\r\n",
    "# 日志记录. 任务会自动记录环境初始化日志、任务执行日志、错误日志、执行脚本中所有标准输出和标准出错流(例如print()),用户可以在「提交」任务后,通过「查看日志」追踪日志信息.\r\n",
    "pip install --upgrade pip\r\n",
    "pip install wechaty==0.7dev17\r\n",
    "\r\n",
    "hub install ernie_skep_sentiment_analysis==1.0.0\r\n",
    "hub install animegan_v2_shinkai_33\r\n",
    "hub install ernie_gen_acrostic_poetry==1.0.1\r\n",
    "hub install ernie_gen_couplet\r\n",
    "\r\n",
    "# 设置环境变量\r\n",
    "export WECHATY_PUPPET=wechaty-puppet-service\r\n",
    "export WECHATY_PUPPET_SERVICE_TOKEN=puppet_padlocal_2e927919c3c84c4d93b085c6c7b9d204\r\n",
    "\r\n",
    "#设置使用GPU进行yuce\r\n",
    "export CUDA_VISIBLE_DEVICES=0\r\n",
    "\r\n",
    "mkdir -p image\r\n",
    "mkdir -p image-new\r\n",
    "\r\n",
    "# 运行python文件\r\n",
    "python run.py"
   ]
  },
  {
   "cell_type": "markdown",
   "metadata": {
    "collapsed": false
   },
   "source": []
  }
 ],
 "metadata": {
  "kernelspec": {
   "display_name": "PaddlePaddle 2.0.0b0 (Python 3.5)",
   "language": "python",
   "name": "py35-paddle1.2.0"
  },
  "language_info": {
   "codemirror_mode": {
    "name": "ipython",
    "version": 3
   },
   "file_extension": ".py",
   "mimetype": "text/x-python",
   "name": "python",
   "nbconvert_exporter": "python",
   "pygments_lexer": "ipython3",
   "version": "3.7.4"
  }
 },
 "nbformat": 4,
 "nbformat_minor": 1
}
